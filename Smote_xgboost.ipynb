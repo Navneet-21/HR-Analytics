{
 "cells": [
  {
   "cell_type": "code",
   "execution_count": 65,
   "metadata": {},
   "outputs": [],
   "source": [
    "import pandas as pd\n",
    "import seaborn as sns\n",
    "import matplotlib.pyplot  as plt\n",
    "import numpy as np\n",
    "import time\n",
    "import warnings\n",
    "warnings.filterwarnings('ignore')\n",
    "%matplotlib inline\n",
    "from sklearn.metrics import precision_recall_fscore_support\n",
    "from sklearn.metrics import precision_score, \\\n",
    "    recall_score, confusion_matrix, classification_report, \\\n",
    "    accuracy_score, f1_score\n",
    "from imblearn.over_sampling import SMOTE\n",
    "from sklearn.model_selection import train_test_split\n",
    "\n",
    "from sklearn.model_selection import train_test_split\n",
    "\n",
    "#Import libraries:\n",
    "import xgboost as xgb\n",
    "from xgboost.sklearn import XGBClassifier\n",
    "from sklearn.model_selection import cross_validate  #Additional scklearn functions\n",
    "from sklearn import metrics\n",
    "from sklearn.model_selection import GridSearchCV   #Perforing grid search\n",
    "from sklearn.model_selection import cross_val_score\n",
    "import matplotlib.pylab as plt\n",
    "smote = SMOTE(sampling_strategy='minority')"
   ]
  },
  {
   "cell_type": "code",
   "execution_count": 37,
   "metadata": {},
   "outputs": [],
   "source": [
    "train_df = pd.read_csv('train_modified.csv')"
   ]
  },
  {
   "cell_type": "code",
   "execution_count": 38,
   "metadata": {},
   "outputs": [],
   "source": [
    "X = train_df.drop('is_promoted' , axis=1)\n",
    "y= train_df['is_promoted']"
   ]
  },
  {
   "cell_type": "code",
   "execution_count": 39,
   "metadata": {},
   "outputs": [],
   "source": [
    "# X_train,X_test, y_train,y_test = \\\n",
    "# train_test_split(X,y,test_size=0.3,random_state=10)"
   ]
  },
  {
   "cell_type": "code",
   "execution_count": 43,
   "metadata": {},
   "outputs": [
    {
     "data": {
      "text/plain": [
       "0.08517004816815063"
      ]
     },
     "execution_count": 43,
     "metadata": {},
     "output_type": "execute_result"
    }
   ],
   "source": [
    "y.sum()/X.shape[0]"
   ]
  },
  {
   "cell_type": "code",
   "execution_count": 42,
   "metadata": {},
   "outputs": [
    {
     "data": {
      "text/plain": [
       "0.0    50140\n",
       "1.0     4668\n",
       "Name: is_promoted, dtype: int64"
      ]
     },
     "execution_count": 42,
     "metadata": {},
     "output_type": "execute_result"
    }
   ],
   "source": [
    "y.value_counts()"
   ]
  },
  {
   "cell_type": "code",
   "execution_count": 29,
   "metadata": {},
   "outputs": [],
   "source": [
    "#pip install --upgrade scikit-learn"
   ]
  },
  {
   "cell_type": "code",
   "execution_count": null,
   "metadata": {},
   "outputs": [],
   "source": [
    "#smote.fit_resample"
   ]
  },
  {
   "cell_type": "code",
   "execution_count": 44,
   "metadata": {},
   "outputs": [],
   "source": [
    "#X_train_smote, y_train_smote = smote.fit_resample(X.astype('float'),y)\n",
    "X_train_smote, y_train_smote = smote.fit_resample(X,y)"
   ]
  },
  {
   "cell_type": "code",
   "execution_count": 50,
   "metadata": {},
   "outputs": [
    {
     "data": {
      "text/plain": [
       "1.0    50140\n",
       "0.0    50140\n",
       "Name: is_promoted, dtype: int64"
      ]
     },
     "execution_count": 50,
     "metadata": {},
     "output_type": "execute_result"
    }
   ],
   "source": [
    "y_train_smote.value_counts()"
   ]
  },
  {
   "cell_type": "code",
   "execution_count": 46,
   "metadata": {},
   "outputs": [],
   "source": [
    "X_train,X_test, y_train,y_test = \\\n",
    "train_test_split(X_train_smote,y_train_smote,test_size=0.2,random_state=20,stratify=y_train_smote)"
   ]
  },
  {
   "cell_type": "code",
   "execution_count": 51,
   "metadata": {},
   "outputs": [
    {
     "data": {
      "text/plain": [
       "0.0    40112\n",
       "1.0    40112\n",
       "Name: is_promoted, dtype: int64"
      ]
     },
     "execution_count": 51,
     "metadata": {},
     "output_type": "execute_result"
    }
   ],
   "source": [
    "y_train.value_counts()"
   ]
  },
  {
   "cell_type": "code",
   "execution_count": 54,
   "metadata": {},
   "outputs": [
    {
     "data": {
      "text/plain": [
       "0.0    10028\n",
       "1.0    10028\n",
       "Name: is_promoted, dtype: int64"
      ]
     },
     "execution_count": 54,
     "metadata": {},
     "output_type": "execute_result"
    }
   ],
   "source": [
    "y_test.value_counts()"
   ]
  },
  {
   "cell_type": "code",
   "execution_count": 55,
   "metadata": {},
   "outputs": [],
   "source": [
    "def modelfit(xgb_model, X_train, y_train,X_test,y_test,useTrainCV=True, cv_folds=5, early_stopping_rounds=50):\n",
    "    \n",
    "    if useTrainCV:\n",
    "        xgb_param = xgb_model.get_xgb_params()\n",
    "        xgtrain = xgb.DMatrix(X_train.values, label=y_train.values)\n",
    "        cvresult = xgb.cv(xgb_param, xgtrain, num_boost_round=xgb_model.get_params()['n_estimators'], nfold=cv_folds,\n",
    "                    metrics='auc', early_stopping_rounds=early_stopping_rounds, verbose_eval=None)\n",
    "        xgb_model.set_params(n_estimators=cvresult.shape[0])\n",
    "    \n",
    "        #Fit the algorithm on the data\n",
    "        xgb_model.fit(X_train, y_train,eval_metric='auc')\n",
    "        \n",
    "    #Predict training set:\n",
    "    xtrain_predictions = xgb_model.predict(X_train)\n",
    "    xtrain_predprob = xgb_model.predict_proba(X_train)[:,1]\n",
    "        \n",
    "    #Print model report:\n",
    "    print (\"\\nModel Report\")\n",
    "    print (\"Accuracy : %.4g\" % metrics.accuracy_score(y_train.values, xtrain_predictions))\n",
    "    print (\"AUC Score (Train): %f\" % metrics.roc_auc_score(y_train, xtrain_predprob))\n",
    "    \n",
    "#     Predict on testing data:\n",
    "    X_test_probability = xgb_model.predict_proba(X_test)[:,1]\n",
    "    #results = test_results.merge(dtest[['ID','predprob']], on='ID')\n",
    "    print ('AUC Score (Test): %f' % metrics.roc_auc_score(y_test, X_test_probability))\n",
    "    \n",
    "    print(\" -------\\n \\n\" )\n",
    "  \n",
    "    ## Evaluate accuracy matrix\n",
    "    # Predict the trading signal on train dataset\n",
    "    X_train_pred = xgb_model.predict(X_train)\n",
    "    # Predict the trading signal on test dataset\n",
    "    X_test_pred = xgb_model.predict(X_test)\n",
    "    \n",
    "    ### Training dataset \n",
    "    print(\"Train data Eval\")\n",
    "    print ('Accuracy (train):', accuracy_score(y_train, X_train_pred))\n",
    "    print ('F1 score (train):', f1_score(y_train, X_train_pred))\n",
    "    print ('Recall (train):', recall_score(y_train, X_train_pred))\n",
    "    print ('Precision (train):', precision_score(y_train, X_train_pred))\n",
    "    \n",
    "    print(\" -------\\n \\n\" )\n",
    "    \n",
    "    ### Test dataset \n",
    "    print(\"Test data Eval\")\n",
    "    print ('Accuracy (test):', accuracy_score(y_test, X_test_pred))\n",
    "    print ('F1 score (test):', f1_score(y_test, X_test_pred))\n",
    "    print ('Recall (test):', recall_score(y_test, X_test_pred))\n",
    "    print ('Precision (test):', precision_score(y_test, X_test_pred))\n",
    "    \n",
    "    print(\" Top Features -------\\n \\n\" )           \n",
    "    feat_imp = pd.Series(xgb_model.get_booster().get_score(importance_type='weight')).sort_values(ascending=False)\n",
    "    feat_imp.plot(kind='bar', title='Feature Importances')\n",
    "    plt.ylabel('Feature Importance Score')"
   ]
  },
  {
   "cell_type": "code",
   "execution_count": null,
   "metadata": {},
   "outputs": [],
   "source": [
    "# plotting cv results\n",
    "def cv_result():\n",
    "    \n",
    "    plt.figure(figsize=(16,6))\n",
    "\n",
    "    plt.plot(cv_results[\"param_n_features_to_select\"], cv_results[\"mean_test_score\"])\n",
    "    plt.plot(cv_results[\"param_n_features_to_select\"], cv_results[\"mean_train_score\"])\n",
    "    plt.xlabel('number of features')\n",
    "    plt.ylabel('r-squared')\n",
    "    plt.title(\"Optimal Number of Features\")\n",
    "    plt.legend(['test score', 'train score'], loc='upper left')"
   ]
  },
  {
   "cell_type": "code",
   "execution_count": 68,
   "metadata": {},
   "outputs": [],
   "source": [
    "def draw_roc( actual, probs ):\n",
    "    fpr, tpr, thresholds = metrics.roc_curve( actual, probs,\n",
    "                                              drop_intermediate = False )\n",
    "    auc_score = metrics.roc_auc_score( actual, probs )\n",
    "    plt.figure(figsize=(5, 5))\n",
    "    plt.plot( fpr, tpr, label='ROC curve (area = %0.2f)' % auc_score )\n",
    "    plt.plot([0, 1], [0, 1], 'k--')\n",
    "    plt.xlim([0.0, 1.0])\n",
    "    plt.ylim([0.0, 1.05])\n",
    "    plt.xlabel('False Positive Rate or [1 - True Negative Rate]')\n",
    "    plt.ylabel('True Positive Rate')\n",
    "    plt.title('Receiver operating characteristic example')\n",
    "    plt.legend(loc=\"lower right\")\n",
    "    plt.show()\n",
    "\n",
    "    return None"
   ]
  },
  {
   "cell_type": "code",
   "execution_count": 56,
   "metadata": {},
   "outputs": [],
   "source": [
    "xgb1 = XGBClassifier(\n",
    " learning_rate =0.1,\n",
    " n_estimators=1000,\n",
    " max_depth=5,\n",
    " min_child_weight=1,\n",
    " gamma=0,\n",
    " subsample=0.8,\n",
    " colsample_bytree=0.8,\n",
    " objective= 'binary:logistic',\n",
    " nthread=4,\n",
    " scale_pos_weight=1,\n",
    " seed=27)\n",
    "\n",
    "modelfit(xgb1,X_train, y_train,X_test,y_test)"
   ]
  },
  {
   "cell_type": "code",
   "execution_count": 57,
   "metadata": {},
   "outputs": [
    {
     "name": "stdout",
     "output_type": "stream",
     "text": [
      "\n",
      "Model Report\n",
      "Accuracy : 0.8883\n",
      "AUC Score (Train): 0.961854\n",
      "AUC Score (Test): 0.947034\n",
      " -------\n",
      " \n",
      "\n",
      "Train data Eval\n",
      "Accuracy (train): 0.8883127243717591\n",
      "F1 score (train): 0.8897149327950371\n",
      "Recall (train): 0.9010271240526526\n",
      "Precision (train): 0.8786832636390158\n",
      " -------\n",
      " \n",
      "\n",
      "Test data Eval\n",
      "Accuracy (test): 0.8666733147187874\n",
      "F1 score (test): 0.8688701451549626\n",
      "Recall (test): 0.8834264060630236\n",
      "Precision (test): 0.8547857969895793\n",
      " Top Features -------\n",
      " \n",
      "\n"
     ]
    },
    {
     "data": {
      "image/png": "[encoded data removed]",
      "text/plain": [
       "<Figure size 432x288 with 1 Axes>"
      ]
     },
     "metadata": {
      "needs_background": "light"
     },
     "output_type": "display_data"
    }
   ],
   "source": []
  },
  {
   "cell_type": "code",
   "execution_count": 58,
   "metadata": {},
   "outputs": [
    {
     "data": {
      "image/png": "[encoded data removed]",
      "text/plain": [
       "<Figure size 360x288 with 2 Axes>"
      ]
     },
     "metadata": {
      "needs_background": "light"
     },
     "output_type": "display_data"
    },
    {
     "name": "stdout",
     "output_type": "stream",
     "text": [
      "8523 1169 8859 1505\n",
      "\n",
      " clasification report:\n",
      "               precision    recall  f1-score   support\n",
      "\n",
      "         0.0       0.88      0.85      0.86     10028\n",
      "         1.0       0.85      0.88      0.87     10028\n",
      "\n",
      "    accuracy                           0.87     20056\n",
      "   macro avg       0.87      0.87      0.87     20056\n",
      "weighted avg       0.87      0.87      0.87     20056\n",
      "\n",
      "\n",
      " confussion matrix:\n",
      " [[8523 1505]\n",
      " [1169 8859]]\n"
     ]
    }
   ],
   "source": [
    "# Predict the trading signal on test dataset\n",
    "X_test_pred = xgb1.predict(X_test)\n",
    "\n",
    "# Predict the trading signal on test dataset\n",
    "X_test_pred = xgb1.predict(X_test)\n",
    "array = confusion_matrix(y_test, X_test_pred)\n",
    "df = pd.DataFrame(array, index=['not_promoted', 'promoted'], columns=[\n",
    "'not_promoted', 'promoted'])\n",
    "plt.figure(figsize=(5, 4))\n",
    "sns.heatmap(df, annot=True, cmap='Greens', fmt='g')\n",
    "plt.xlabel('Predicted')\n",
    "plt.ylabel('Actual')\n",
    "plt.show()\n",
    "\n",
    "TN = array[0,0]\n",
    "FN = array[1,0]\n",
    "TP = array[1,1]\n",
    "FP = array[0,1]\n",
    "print(TN,FN,TP,FP)\n",
    "\n",
    "\n",
    "print ('\\n clasification report:\\n', classification_report(y_test,X_test_pred))\n",
    "print ('\\n confussion matrix:\\n',confusion_matrix(y_test, X_test_pred))\n"
   ]
  },
  {
   "cell_type": "markdown",
   "metadata": {},
   "source": [
    "#### Tunning XGBOOST Parameters \n",
    "## Tune max_depth and min_child_weightl"
   ]
  },
  {
   "cell_type": "code",
   "execution_count": 66,
   "metadata": {},
   "outputs": [
    {
     "name": "stdout",
     "output_type": "stream",
     "text": [
      "TUNING ############################\n",
      "[15:30:03] WARNING: C:/Users/Administrator/workspace/xgboost-win64_release_1.4.0/src/learner.cc:1095: Starting in XGBoost 1.3.0, the default evaluation metric used with the objective 'binary:logistic' was changed from 'error' to 'logloss'. Explicitly set eval_metric if you'd like to restore the old behavior.\n",
      "Grid time: 708.0088632106781\n"
     ]
    }
   ],
   "source": [
    "param_test1 = {\n",
    " 'max_depth':range(2,16,2),\n",
    " 'min_child_weight':range(1,6,2)\n",
    "}\n",
    "print(\"TUNING ############################\")\n",
    "startgrid=time.time()\n",
    "gsearch1 = GridSearchCV(estimator = XGBClassifier( learning_rate =0.1, n_estimators=150, max_depth=5,\\\n",
    "                                                  min_child_weight=1, gamma=0, subsample=0.8, \\\n",
    "                                                  colsample_bytree=0.8,objective= 'binary:logistic',\\\n",
    "                                                  nthread=4, scale_pos_weight=1,seed=27),\\\n",
    "                        param_grid = param_test1, scoring='roc_auc',n_jobs=4,\\\n",
    "                        cv=5,return_train_score=True)\n",
    "\n",
    "gsearch1.fit(X_train,y_train)\n",
    "\n",
    "endgrid = time.time()\n",
    "print(\"Grid time: \"+str(endgrid-startgrid))"
   ]
  },
  {
   "cell_type": "code",
   "execution_count": 84,
   "metadata": {},
   "outputs": [
    {
     "data": {
      "text/plain": [
       "({'max_depth': 14, 'min_child_weight': 1}, 0.9707669446489726)"
      ]
     },
     "execution_count": 84,
     "metadata": {},
     "output_type": "execute_result"
    }
   ],
   "source": [
    "gsearch1.best_params_, gsearch1.best_score_"
   ]
  },
  {
   "cell_type": "code",
   "execution_count": 88,
   "metadata": {},
   "outputs": [
    {
     "name": "stdout",
     "output_type": "stream",
     "text": [
      "TUNING ############################\n",
      "[16:55:01] WARNING: C:/Users/Administrator/workspace/xgboost-win64_release_1.4.0/src/learner.cc:1095: Starting in XGBoost 1.3.0, the default evaluation metric used with the objective 'binary:logistic' was changed from 'error' to 'logloss'. Explicitly set eval_metric if you'd like to restore the old behavior.\n",
      "Grid time: 313.2522876262665\n"
     ]
    }
   ],
   "source": [
    "param_test2 = {\n",
    " 'max_depth':[15,16,17,18,19],\n",
    " 'min_child_weight':[1,2]\n",
    "}\n",
    "print(\"TUNING ############################\")\n",
    "startgrid=time.time()\n",
    "gsearch2 = GridSearchCV(estimator = XGBClassifier( learning_rate =0.1, n_estimators=150, max_depth=4,\\\n",
    "                                                  min_child_weight=1, gamma=0, subsample=0.4, \\\n",
    "                                                  colsample_bytree=0.4,objective= 'binary:logistic',\\\n",
    "                                                  nthread=4, scale_pos_weight=1,seed=27),\\\n",
    "                        param_grid = param_test2, scoring='roc_auc',n_jobs=4,\\\n",
    "                        cv=5,return_train_score=True)\n",
    "\n",
    "gsearch2.fit(X_train,y_train)\n",
    "\n",
    "endgrid = time.time()\n",
    "print(\"Grid time: \"+str(endgrid-startgrid))"
   ]
  },
  {
   "cell_type": "code",
   "execution_count": 86,
   "metadata": {},
   "outputs": [
    {
     "data": {
      "text/plain": [
       "({'max_depth': 16, 'min_child_weight': 1}, 0.9734930734374462)"
      ]
     },
     "execution_count": 86,
     "metadata": {},
     "output_type": "execute_result"
    }
   ],
   "source": [
    "gsearch2.best_params_, gsearch2.best_score_"
   ]
  },
  {
   "cell_type": "markdown",
   "metadata": {},
   "source": [
    "## Step 3: Tune gamma"
   ]
  },
  {
   "cell_type": "code",
   "execution_count": 90,
   "metadata": {},
   "outputs": [
    {
     "name": "stdout",
     "output_type": "stream",
     "text": [
      "TUNING ############################\n",
      "[17:04:57] WARNING: C:/Users/Administrator/workspace/xgboost-win64_release_1.4.0/src/learner.cc:1095: Starting in XGBoost 1.3.0, the default evaluation metric used with the objective 'binary:logistic' was changed from 'error' to 'logloss'. Explicitly set eval_metric if you'd like to restore the old behavior.\n",
      "Grid time: 386.8631982803345\n"
     ]
    }
   ],
   "source": [
    "param_test3 = {\n",
    " 'gamma':[i/10.0 for i in range(0,5)]\n",
    "}\n",
    "print(\"TUNING ############################\")\n",
    "startgrid=time.time()\n",
    "\n",
    "gsearch3 = GridSearchCV(estimator = XGBClassifier( learning_rate =0.1, n_estimators=150, max_depth=16,\\\n",
    "                                                  min_child_weight=1, gamma=0, subsample=0.8, \\\n",
    "                                                  colsample_bytree=0.8,objective= 'binary:logistic',\\\n",
    "                                                  nthread=4, scale_pos_weight=1,seed=27),\\\n",
    "                        param_grid = param_test3, scoring='roc_auc',n_jobs=4,\\\n",
    "                        cv=5,return_train_score=True)\n",
    "\n",
    "gsearch3.fit(X_train,y_train)\n",
    "\n",
    "endgrid = time.time()\n",
    "print(\"Grid time: \"+str(endgrid-startgrid))"
   ]
  },
  {
   "cell_type": "code",
   "execution_count": 91,
   "metadata": {},
   "outputs": [
    {
     "data": {
      "text/plain": [
       "({'gamma': 0.0}, 0.9734930734374462)"
      ]
     },
     "execution_count": 91,
     "metadata": {},
     "output_type": "execute_result"
    }
   ],
   "source": [
    "gsearch3.best_params_, gsearch3.best_score_"
   ]
  },
  {
   "cell_type": "code",
   "execution_count": 89,
   "metadata": {},
   "outputs": [
    {
     "data": {
      "text/plain": [
       "[0.0, 0.1, 0.2, 0.3, 0.4]"
      ]
     },
     "execution_count": 89,
     "metadata": {},
     "output_type": "execute_result"
    }
   ],
   "source": [
    "4:58 5:06\n",
    "[i/10.0 for i in range(0,5)]"
   ]
  },
  {
   "cell_type": "code",
   "execution_count": 92,
   "metadata": {},
   "outputs": [
    {
     "name": "stdout",
     "output_type": "stream",
     "text": [
      "\n",
      "Model Report\n",
      "Accuracy : 0.9862\n",
      "AUC Score (Train): 0.998805\n",
      "AUC Score (Test): 0.977351\n",
      " -------\n",
      " \n",
      "\n",
      "Train data Eval\n",
      "Accuracy (train): 0.9861637415237335\n",
      "F1 score (train): 0.9862735884055104\n",
      "Recall (train): 0.9941663342640606\n",
      "Precision (train): 0.9785051774058988\n",
      " -------\n",
      " \n",
      "\n",
      "Test data Eval\n",
      "Accuracy (test): 0.9272038292780216\n",
      "F1 score (test): 0.9286830793278625\n",
      "Recall (test): 0.9479457518946949\n",
      "Precision (test): 0.9101876675603218\n",
      " Top Features -------\n",
      " \n",
      "\n"
     ]
    },
    {
     "data": {
      "image/png": "[encoded data removed]",
      "text/plain": [
       "<Figure size 432x288 with 1 Axes>"
      ]
     },
     "metadata": {
      "needs_background": "light"
     },
     "output_type": "display_data"
    }
   ],
   "source": [
    "xgb2 = XGBClassifier(\n",
    " learning_rate =0.1,\n",
    " n_estimators=1000,\n",
    " max_depth=16,\n",
    " min_child_weight=1,\n",
    " gamma=0.0,\n",
    " subsample=0.8,\n",
    " colsample_bytree=0.8,\n",
    " objective= 'binary:logistic',\n",
    " nthread=4,\n",
    " scale_pos_weight=1,\n",
    " seed=27)\n",
    "\n",
    "modelfit(xgb2,X_train, y_train,X_test,y_test)"
   ]
  },
  {
   "cell_type": "code",
   "execution_count": 93,
   "metadata": {},
   "outputs": [],
   "source": [
    "## Tune subsample & colsample"
   ]
  },
  {
   "cell_type": "code",
   "execution_count": 94,
   "metadata": {},
   "outputs": [
    {
     "name": "stdout",
     "output_type": "stream",
     "text": [
      "TUNING ############################\n",
      "[18:40:04] WARNING: C:/Users/Administrator/workspace/xgboost-win64_release_1.4.0/src/learner.cc:1095: Starting in XGBoost 1.3.0, the default evaluation metric used with the objective 'binary:logistic' was changed from 'error' to 'logloss'. Explicitly set eval_metric if you'd like to restore the old behavior.\n",
      "Grid time: 1068.2788002490997\n"
     ]
    }
   ],
   "source": [
    "param_test4 = {\n",
    " 'subsample':[i/10.0 for i in range(6,10)],\n",
    " 'colsample_bytree':[i/10.0 for i in range(6,10)]\n",
    "}\n",
    "print(\"TUNING ############################\")\n",
    "startgrid=time.time()\n",
    "\n",
    "gsearch4 = GridSearchCV(estimator = XGBClassifier( learning_rate =0.1, n_estimators=150, max_depth=16,\\\n",
    "                                                  min_child_weight=1, gamma=0, subsample=0.8, \\\n",
    "                                                  colsample_bytree=0.8,objective= 'binary:logistic',\\\n",
    "                                                  nthread=4, scale_pos_weight=1,seed=27),\\\n",
    "                        param_grid = param_test4, scoring='roc_auc',n_jobs=4,\\\n",
    "                        cv=5,return_train_score=True)\n",
    "\n",
    "gsearch4.fit(X_train,y_train)\n",
    "\n",
    "endgrid = time.time()\n",
    "print(\"Grid time: \"+str(endgrid-startgrid))"
   ]
  },
  {
   "cell_type": "code",
   "execution_count": 95,
   "metadata": {},
   "outputs": [
    {
     "data": {
      "text/plain": [
       "({'colsample_bytree': 0.9, 'subsample': 0.8}, 0.97406650787821)"
      ]
     },
     "execution_count": 95,
     "metadata": {},
     "output_type": "execute_result"
    }
   ],
   "source": [
    "gsearch4.best_params_, gsearch4.best_score_"
   ]
  },
  {
   "cell_type": "code",
   "execution_count": 96,
   "metadata": {},
   "outputs": [
    {
     "data": {
      "text/plain": [
       "[0.6, 0.7, 0.8, 0.9]"
      ]
     },
     "execution_count": 96,
     "metadata": {},
     "output_type": "execute_result"
    }
   ],
   "source": [
    "[i/10.0 for i in range(6,10)]"
   ]
  },
  {
   "cell_type": "code",
   "execution_count": 99,
   "metadata": {},
   "outputs": [
    {
     "name": "stdout",
     "output_type": "stream",
     "text": [
      "TUNING ############################\n",
      "[19:16:22] WARNING: C:/Users/Administrator/workspace/xgboost-win64_release_1.4.0/src/learner.cc:1095: Starting in XGBoost 1.3.0, the default evaluation metric used with the objective 'binary:logistic' was changed from 'error' to 'logloss'. Explicitly set eval_metric if you'd like to restore the old behavior.\n",
      "Grid time: 620.4022727012634\n"
     ]
    }
   ],
   "source": [
    "param_test5 = {\n",
    "'reg_alpha':[0,1e-7,1e-6,1e-5,1e-4,1e-3, 1e-2, 0.1,]\n",
    "}\n",
    "print(\"TUNING ############################\")\n",
    "startgrid=time.time()\n",
    "\n",
    "gsearch5 = GridSearchCV(estimator = XGBClassifier( learning_rate =0.1, n_estimators=150, max_depth=16,\\\n",
    "                                                  min_child_weight=1, gamma=0, subsample=0.8, \\\n",
    "                                                  colsample_bytree=0.9,objective= 'binary:logistic',\\\n",
    "                                                  nthread=4, scale_pos_weight=1,seed=27),\\\n",
    "                        param_grid = param_test5, scoring='roc_auc',n_jobs=4,\\\n",
    "                        cv=5,return_train_score=True)\n",
    "\n",
    "gsearch5.fit(X_train,y_train)\n",
    "\n",
    "endgrid = time.time()\n",
    "print(\"Grid time: \"+str(endgrid-startgrid))"
   ]
  },
  {
   "cell_type": "code",
   "execution_count": 98,
   "metadata": {},
   "outputs": [
    {
     "data": {
      "text/plain": [
       "({'reg_alpha': 1e-05}, 0.9741314525854643)"
      ]
     },
     "execution_count": 98,
     "metadata": {},
     "output_type": "execute_result"
    }
   ],
   "source": [
    "gsearch5.best_params_, gsearch5.best_score_"
   ]
  },
  {
   "cell_type": "code",
   "execution_count": 100,
   "metadata": {},
   "outputs": [
    {
     "name": "stdout",
     "output_type": "stream",
     "text": [
      "\n",
      "Model Report\n",
      "Accuracy : 0.9871\n",
      "AUC Score (Train): 0.998940\n",
      "AUC Score (Test): 0.978080\n",
      " -------\n",
      " \n",
      "\n",
      "Train data Eval\n",
      "Accuracy (train): 0.9870861587554847\n",
      "F1 score (train): 0.9871851961802979\n",
      "Recall (train): 0.9948145193458316\n",
      "Precision (train): 0.9796720023568692\n",
      " -------\n",
      " \n",
      "\n",
      "Test data Eval\n",
      "Accuracy (test): 0.9285001994415636\n",
      "F1 score (test): 0.9298914637723672\n",
      "Recall (test): 0.9483446350219386\n",
      "Precision (test): 0.91214272012277\n",
      " Top Features -------\n",
      " \n",
      "\n"
     ]
    },
    {
     "data": {
      "image/png": "[encoded data removed]",
      "text/plain": [
       "<Figure size 432x288 with 1 Axes>"
      ]
     },
     "metadata": {
      "needs_background": "light"
     },
     "output_type": "display_data"
    }
   ],
   "source": [
    "xgb3 = XGBClassifier(\n",
    " learning_rate =0.1,\n",
    " n_estimators=1000,\n",
    " max_depth=16,\n",
    " min_child_weight=1,\n",
    " gamma=0.0,\n",
    " subsample=0.8,\n",
    " colsample_bytree=0.9,\n",
    " objective= 'binary:logistic',\n",
    " nthread=4,\n",
    " reg_alpha=1e-05,\n",
    " scale_pos_weight=1,\n",
    " seed=27)\n",
    "\n",
    "modelfit(xgb3,X_train, y_train,X_test,y_test)"
   ]
  },
  {
   "cell_type": "code",
   "execution_count": 104,
   "metadata": {},
   "outputs": [
    {
     "data": {
      "image/png": "[encoded data removed]",
      "text/plain": [
       "<Figure size 360x288 with 2 Axes>"
      ]
     },
     "metadata": {
      "needs_background": "light"
     },
     "output_type": "display_data"
    },
    {
     "name": "stdout",
     "output_type": "stream",
     "text": [
      "9112 518 9510 916\n",
      "\n",
      " clasification report:\n",
      "               precision    recall  f1-score   support\n",
      "\n",
      "         0.0       0.95      0.91      0.93     10028\n",
      "         1.0       0.91      0.95      0.93     10028\n",
      "\n",
      "    accuracy                           0.93     20056\n",
      "   macro avg       0.93      0.93      0.93     20056\n",
      "weighted avg       0.93      0.93      0.93     20056\n",
      "\n",
      "\n",
      " confussion matrix:\n",
      " [[9112  916]\n",
      " [ 518 9510]]\n"
     ]
    }
   ],
   "source": [
    "# Predict the trading signal on test dataset\n",
    "X_test_pred = xgb3.predict(X_test)\n",
    "\n",
    "# Predict the trading signal on test dataset\n",
    "X_test_pred = xgb3.predict(X_test)\n",
    "array = confusion_matrix(y_test, X_test_pred)\n",
    "df = pd.DataFrame(array, index=['not_promoted', 'promoted'], columns=[\n",
    "'not_promoted', 'promoted'])\n",
    "plt.figure(figsize=(5, 4))\n",
    "sns.heatmap(df, annot=True, cmap='Greens', fmt='g')\n",
    "plt.xlabel('Predicted')\n",
    "plt.ylabel('Actual')\n",
    "plt.show()\n",
    "\n",
    "TN = array[0,0]\n",
    "FN = array[1,0]\n",
    "TP = array[1,1]\n",
    "FP = array[0,1]\n",
    "print(TN,FN,TP,FP)\n",
    "\n",
    "\n",
    "print ('\\n clasification report:\\n', classification_report(y_test,X_test_pred))\n",
    "print ('\\n confussion matrix:\\n',confusion_matrix(y_test, X_test_pred))\n"
   ]
  },
  {
   "cell_type": "code",
   "execution_count": null,
   "metadata": {},
   "outputs": [],
   "source": []
  },
  {
   "cell_type": "code",
   "execution_count": null,
   "metadata": {},
   "outputs": [],
   "source": []
  },
  {
   "cell_type": "code",
   "execution_count": null,
   "metadata": {},
   "outputs": [],
   "source": []
  },
  {
   "cell_type": "code",
   "execution_count": 102,
   "metadata": {},
   "outputs": [],
   "source": [
    "import pickle"
   ]
  },
  {
   "cell_type": "code",
   "execution_count": 106,
   "metadata": {},
   "outputs": [],
   "source": [
    "Pkl_Filename = \"HR_Smote_XGboostModel.pkl\" "
   ]
  },
  {
   "cell_type": "code",
   "execution_count": 105,
   "metadata": {},
   "outputs": [],
   "source": [
    " \n",
    "\n",
    "with open(Pkl_Filename, 'wb') as file:  \n",
    "    pickle.dump(xgb3, file)"
   ]
  },
  {
   "cell_type": "code",
   "execution_count": 107,
   "metadata": {},
   "outputs": [],
   "source": [
    "# # Load the Model back from file\n",
    "# with open(Pkl_Filename, 'rb') as file:  \n",
    "#     Pickled_xgb3 = pickle.load(file)\n",
    "\n",
    "# Pickled_xgb3"
   ]
  },
  {
   "cell_type": "code",
   "execution_count": 108,
   "metadata": {},
   "outputs": [],
   "source": [
    "mytestdata = pd.read_csv('test_modified.csv')"
   ]
  },
  {
   "cell_type": "code",
   "execution_count": 109,
   "metadata": {},
   "outputs": [
    {
     "data": {
      "text/html": [
       "<div>\n",
       "<style scoped>\n",
       "    .dataframe tbody tr th:only-of-type {\n",
       "        vertical-align: middle;\n",
       "    }\n",
       "\n",
       "    .dataframe tbody tr th {\n",
       "        vertical-align: top;\n",
       "    }\n",
       "\n",
       "    .dataframe thead th {\n",
       "        text-align: right;\n",
       "    }\n",
       "</style>\n",
       "<table border=\"1\" class=\"dataframe\">\n",
       "  <thead>\n",
       "    <tr style=\"text-align: right;\">\n",
       "      <th></th>\n",
       "      <th>no_of_trainings</th>\n",
       "      <th>age</th>\n",
       "      <th>previous_year_rating</th>\n",
       "      <th>length_of_service</th>\n",
       "      <th>KPIs_metgreater80</th>\n",
       "      <th>awards_won</th>\n",
       "      <th>avg_training_score</th>\n",
       "      <th>education_Below Secondary</th>\n",
       "      <th>education_Master's &amp; above</th>\n",
       "      <th>gender_m</th>\n",
       "      <th>recruitment_channel_referred</th>\n",
       "      <th>recruitment_channel_sourcing</th>\n",
       "    </tr>\n",
       "  </thead>\n",
       "  <tbody>\n",
       "    <tr>\n",
       "      <th>0</th>\n",
       "      <td>1</td>\n",
       "      <td>24</td>\n",
       "      <td>3.0</td>\n",
       "      <td>1</td>\n",
       "      <td>1</td>\n",
       "      <td>0</td>\n",
       "      <td>77</td>\n",
       "      <td>0</td>\n",
       "      <td>0</td>\n",
       "      <td>1</td>\n",
       "      <td>0</td>\n",
       "      <td>1</td>\n",
       "    </tr>\n",
       "    <tr>\n",
       "      <th>1</th>\n",
       "      <td>1</td>\n",
       "      <td>31</td>\n",
       "      <td>3.0</td>\n",
       "      <td>5</td>\n",
       "      <td>0</td>\n",
       "      <td>0</td>\n",
       "      <td>51</td>\n",
       "      <td>0</td>\n",
       "      <td>0</td>\n",
       "      <td>0</td>\n",
       "      <td>0</td>\n",
       "      <td>0</td>\n",
       "    </tr>\n",
       "    <tr>\n",
       "      <th>2</th>\n",
       "      <td>1</td>\n",
       "      <td>31</td>\n",
       "      <td>1.0</td>\n",
       "      <td>4</td>\n",
       "      <td>0</td>\n",
       "      <td>0</td>\n",
       "      <td>47</td>\n",
       "      <td>0</td>\n",
       "      <td>0</td>\n",
       "      <td>1</td>\n",
       "      <td>0</td>\n",
       "      <td>0</td>\n",
       "    </tr>\n",
       "    <tr>\n",
       "      <th>3</th>\n",
       "      <td>3</td>\n",
       "      <td>31</td>\n",
       "      <td>2.0</td>\n",
       "      <td>9</td>\n",
       "      <td>0</td>\n",
       "      <td>0</td>\n",
       "      <td>65</td>\n",
       "      <td>0</td>\n",
       "      <td>0</td>\n",
       "      <td>0</td>\n",
       "      <td>0</td>\n",
       "      <td>0</td>\n",
       "    </tr>\n",
       "    <tr>\n",
       "      <th>4</th>\n",
       "      <td>1</td>\n",
       "      <td>30</td>\n",
       "      <td>4.0</td>\n",
       "      <td>7</td>\n",
       "      <td>0</td>\n",
       "      <td>0</td>\n",
       "      <td>61</td>\n",
       "      <td>0</td>\n",
       "      <td>0</td>\n",
       "      <td>1</td>\n",
       "      <td>0</td>\n",
       "      <td>1</td>\n",
       "    </tr>\n",
       "  </tbody>\n",
       "</table>\n",
       "</div>"
      ],
      "text/plain": [
       "   no_of_trainings  age  previous_year_rating  length_of_service  \\\n",
       "0                1   24                   3.0                  1   \n",
       "1                1   31                   3.0                  5   \n",
       "2                1   31                   1.0                  4   \n",
       "3                3   31                   2.0                  9   \n",
       "4                1   30                   4.0                  7   \n",
       "\n",
       "   KPIs_metgreater80  awards_won  avg_training_score  \\\n",
       "0                  1           0                  77   \n",
       "1                  0           0                  51   \n",
       "2                  0           0                  47   \n",
       "3                  0           0                  65   \n",
       "4                  0           0                  61   \n",
       "\n",
       "   education_Below Secondary  education_Master's & above  gender_m  \\\n",
       "0                          0                           0         1   \n",
       "1                          0                           0         0   \n",
       "2                          0                           0         1   \n",
       "3                          0                           0         0   \n",
       "4                          0                           0         1   \n",
       "\n",
       "   recruitment_channel_referred  recruitment_channel_sourcing  \n",
       "0                             0                             1  \n",
       "1                             0                             0  \n",
       "2                             0                             0  \n",
       "3                             0                             0  \n",
       "4                             0                             1  "
      ]
     },
     "execution_count": 109,
     "metadata": {},
     "output_type": "execute_result"
    }
   ],
   "source": [
    "mytestdata.head()"
   ]
  },
  {
   "cell_type": "code",
   "execution_count": 110,
   "metadata": {},
   "outputs": [],
   "source": [
    "# Predict the trading signal on test dataset\n",
    "X_test_pred = xgb3.predict(mytestdata)"
   ]
  },
  {
   "cell_type": "code",
   "execution_count": 123,
   "metadata": {},
   "outputs": [
    {
     "data": {
      "text/plain": [
       "numpy.ndarray"
      ]
     },
     "execution_count": 123,
     "metadata": {},
     "output_type": "execute_result"
    }
   ],
   "source": [
    "type(X_test_pred)\n"
   ]
  },
  {
   "cell_type": "code",
   "execution_count": 127,
   "metadata": {},
   "outputs": [
    {
     "data": {
      "text/html": [
       "<div>\n",
       "<style scoped>\n",
       "    .dataframe tbody tr th:only-of-type {\n",
       "        vertical-align: middle;\n",
       "    }\n",
       "\n",
       "    .dataframe tbody tr th {\n",
       "        vertical-align: top;\n",
       "    }\n",
       "\n",
       "    .dataframe thead th {\n",
       "        text-align: right;\n",
       "    }\n",
       "</style>\n",
       "<table border=\"1\" class=\"dataframe\">\n",
       "  <thead>\n",
       "    <tr style=\"text-align: right;\">\n",
       "      <th></th>\n",
       "      <th>employee_id</th>\n",
       "    </tr>\n",
       "  </thead>\n",
       "  <tbody>\n",
       "    <tr>\n",
       "      <th>0</th>\n",
       "      <td>8724</td>\n",
       "    </tr>\n",
       "    <tr>\n",
       "      <th>1</th>\n",
       "      <td>74430</td>\n",
       "    </tr>\n",
       "    <tr>\n",
       "      <th>2</th>\n",
       "      <td>72255</td>\n",
       "    </tr>\n",
       "    <tr>\n",
       "      <th>3</th>\n",
       "      <td>38562</td>\n",
       "    </tr>\n",
       "    <tr>\n",
       "      <th>4</th>\n",
       "      <td>64486</td>\n",
       "    </tr>\n",
       "    <tr>\n",
       "      <th>...</th>\n",
       "      <td>...</td>\n",
       "    </tr>\n",
       "    <tr>\n",
       "      <th>23485</th>\n",
       "      <td>53478</td>\n",
       "    </tr>\n",
       "    <tr>\n",
       "      <th>23486</th>\n",
       "      <td>25600</td>\n",
       "    </tr>\n",
       "    <tr>\n",
       "      <th>23487</th>\n",
       "      <td>45409</td>\n",
       "    </tr>\n",
       "    <tr>\n",
       "      <th>23488</th>\n",
       "      <td>1186</td>\n",
       "    </tr>\n",
       "    <tr>\n",
       "      <th>23489</th>\n",
       "      <td>5973</td>\n",
       "    </tr>\n",
       "  </tbody>\n",
       "</table>\n",
       "<p>23490 rows × 1 columns</p>\n",
       "</div>"
      ],
      "text/plain": [
       "       employee_id\n",
       "0             8724\n",
       "1            74430\n",
       "2            72255\n",
       "3            38562\n",
       "4            64486\n",
       "...            ...\n",
       "23485        53478\n",
       "23486        25600\n",
       "23487        45409\n",
       "23488         1186\n",
       "23489         5973\n",
       "\n",
       "[23490 rows x 1 columns]"
      ]
     },
     "execution_count": 127,
     "metadata": {},
     "output_type": "execute_result"
    }
   ],
   "source": [
    "test = pd.read_csv('test.csv')\n",
    "test_emp_id = test[['employee_id']]\n",
    "test_emp_id"
   ]
  },
  {
   "cell_type": "code",
   "execution_count": 132,
   "metadata": {},
   "outputs": [],
   "source": [
    "test_emp_id['is_promoted'] = X_test_pred\n",
    "test_emp_id['is_promoted'] = test_emp_id['is_promoted'].astype(int)"
   ]
  },
  {
   "cell_type": "code",
   "execution_count": 134,
   "metadata": {},
   "outputs": [
    {
     "data": {
      "text/plain": [
       "0    20993\n",
       "1     2497\n",
       "Name: is_promoted, dtype: int64"
      ]
     },
     "execution_count": 134,
     "metadata": {},
     "output_type": "execute_result"
    }
   ],
   "source": [
    "test_emp_id['is_promoted'].value_counts()"
   ]
  },
  {
   "cell_type": "code",
   "execution_count": 135,
   "metadata": {},
   "outputs": [],
   "source": [
    "test_emp_id.to_csv('new_sample.csv',index=False)"
   ]
  },
  {
   "cell_type": "code",
   "execution_count": 113,
   "metadata": {},
   "outputs": [],
   "source": [
    "# Predict the trading signal on test dataset\n",
    "#X_test_pred = xgb3.predict(mytestdata)\n",
    "\n",
    "# Predict the trading signal on test dataset\n",
    "#X_test_pred = xgb3.predict(mytestdata)\n",
    "array = confusion_matrix(y_test, X_test_pred)\n",
    "df = pd.DataFrame(array, index=['not_promoted', 'promoted'], columns=[\n",
    "'not_promoted', 'promoted'])\n",
    "plt.figure(figsize=(5, 4))\n",
    "sns.heatmap(df, annot=True, cmap='Greens', fmt='g')\n",
    "plt.xlabel('Predicted')\n",
    "plt.ylabel('Actual')\n",
    "plt.show()\n",
    "\n",
    "TN = array[0,0]\n",
    "FN = array[1,0]\n",
    "TP = array[1,1]\n",
    "FP = array[0,1]\n",
    "print(TN,FN,TP,FP)\n",
    "\n",
    "\n",
    "print ('\\n clasification report:\\n', classification_report(y_test,X_test_pred))\n",
    "print ('\\n confussion matrix:\\n',confusion_matrix(y_test, X_test_pred))"
   ]
  },
  {
   "cell_type": "code",
   "execution_count": null,
   "metadata": {},
   "outputs": [],
   "source": []
  }
 ],
 "metadata": {
  "kernelspec": {
   "display_name": "Python 3",
   "language": "python",
   "name": "python3"
  },
  "language_info": {
   "codemirror_mode": {
    "name": "ipython",
    "version": 3
   },
   "file_extension": ".py",
   "mimetype": "text/x-python",
   "name": "python",
   "nbconvert_exporter": "python",
   "pygments_lexer": "ipython3",
   "version": "3.8.3"
  }
 },
 "nbformat": 4,
 "nbformat_minor": 4
}
